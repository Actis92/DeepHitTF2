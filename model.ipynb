{
 "cells": [
  {
   "cell_type": "code",
   "execution_count": null,
   "metadata": {},
   "outputs": [],
   "source": [
    "import tensorflow as tf\n",
    "from tensorflow.keras import Model, layers"
   ]
  },
  {
   "cell_type": "code",
   "execution_count": null,
   "metadata": {},
   "outputs": [],
   "source": [
    "class FCLayer(tf.keras.layers.Layer):\n",
    "    def __init__(self, num_layers, h_dim, dropout_rate=None, activation=tf.nn.relu, kernel_regularizer=None):\n",
    "        super(FCLayer, self).__init__()\n",
    "        self.num_layers = num_layers\n",
    "        self.dropout_rate = dropout_rate\n",
    "        self.fcn = layers.Dense(h_dim, activation=activation,\n",
    "                                 kernel_initializer='glorot_uniform', kernel_regularizer=kernel_regularizer)\n",
    "        self.dropout = layers.Dropout(rate=dropout_rate)\n",
    "        \n",
    "    def call(self, x):\n",
    "        for layer in range(self.num_layers):\n",
    "            x = self.fcn(x)\n",
    "            if not self.keep_prob is None:\n",
    "                x = self.dropout(x)\n",
    "        return x\n",
    "\n",
    "    "
   ]
  },
  {
   "cell_type": "code",
   "execution_count": null,
   "metadata": {},
   "outputs": [],
   "source": [
    "class DeepHit(Model):\n",
    "    def __init__(self, num_layers_shared, h_dim_shared, activation, dropout_rate, kernel_regularizer,\n",
    "                num_layers_CS, h_dim_CS):\n",
    "        super(DeepHit, self).__init__()\n",
    "        self.shared_net = FCLayer(num_layers_shared, h_dim_shared, dropout_rate, activation, kernel_regularizer)\n",
    "        self.cs_net = FCLayer(num_layers_CS, h_dim_CS, dropout_rate, activation, kernel_regularizer)\n",
    "        \n",
    "    def call(self, x):\n",
    "        pass"
   ]
  }
 ],
 "metadata": {
  "kernelspec": {
   "display_name": "Python 3",
   "language": "python",
   "name": "python3"
  },
  "language_info": {
   "codemirror_mode": {
    "name": "ipython",
    "version": 3
   },
   "file_extension": ".py",
   "mimetype": "text/x-python",
   "name": "python",
   "nbconvert_exporter": "python",
   "pygments_lexer": "ipython3",
   "version": "3.7.6"
  }
 },
 "nbformat": 4,
 "nbformat_minor": 4
}
